{
 "cells": [
  {
   "cell_type": "markdown",
   "metadata": {},
   "source": [
    "<img src = 'https://github.com/insaid2018/Term-1/blob/master/Images/INSAID_Full%20Logo.png?raw=true' width=\"240\" height=\"360\">\n",
    "# __Assignment: Numpy and Pandas__\n",
    "### Level: 2"
   ]
  },
  {
   "cell_type": "markdown",
   "metadata": {},
   "source": [
    "### 1. Form a 1D array containing elements from -2(including) to 10(excluding) in arithmetic progression with common difference 1.5 , negate all elements which are between 2 and 7, in place. Print out this new array."
   ]
  },
  {
   "cell_type": "code",
   "execution_count": 1,
   "metadata": {},
   "outputs": [
    {
     "data": {
      "text/plain": [
       "array([-2. , -0.5,  1. , -2.5, -4. , -5.5,  7. ,  8.5])"
      ]
     },
     "execution_count": 1,
     "metadata": {},
     "output_type": "execute_result"
    }
   ],
   "source": [
    "import numpy as np\n",
    "def generate():\n",
    "    arr = np.arange(-2, 10, 1.5)\n",
    "    arr[(arr> 2) & (arr < 7)] *= -1\n",
    "    return arr\n",
    "generate()"
   ]
  },
  {
   "cell_type": "markdown",
   "metadata": {},
   "source": [
    "### 2. Create random vector of size 7 and replace the maximum value by 2 and minimum by 7. Sort this array in reverse order. Return the modified vector."
   ]
  },
  {
   "cell_type": "code",
   "execution_count": 2,
   "metadata": {},
   "outputs": [
    {
     "data": {
      "text/plain": [
       "array([7.        , 2.        , 0.91841928, 0.80445375, 0.59398142,\n",
       "       0.59301549, 0.31198231])"
      ]
     },
     "execution_count": 2,
     "metadata": {},
     "output_type": "execute_result"
    }
   ],
   "source": [
    "import numpy as np\n",
    "def generate():\n",
    "    random_vector = np.random.random(7)\n",
    "    random_vector[random_vector.argmax()] = 2\n",
    "    random_vector[random_vector.argmin()] = 7\n",
    "    modified_vector = np.array(sorted(random_vector,reverse = True))\n",
    "    return modified_vector\n",
    "generate()"
   ]
  },
  {
   "cell_type": "markdown",
   "metadata": {},
   "source": [
    "### 3. Convert a random 7x2 matrix representing cartesian coordinates to polar coordinates. Print out both.\n",
    "Hint: use arctan2(). To know more about polar and cartesian coordinates, here's one link:  [polar and cartesian](https://www.mathsisfun.com/polar-cartesian-coordinates.html)."
   ]
  },
  {
   "cell_type": "code",
   "execution_count": 3,
   "metadata": {},
   "outputs": [
    {
     "name": "stdout",
     "output_type": "stream",
     "text": [
      "[0.54152507 0.49456369 1.10897509 0.59550654 0.31781345 0.38059522\n",
      " 0.69199596]\n",
      "[0.22056243 0.54043051 0.93044005 0.47768516 1.49911252 0.28460511\n",
      " 1.1358745 ]\n"
     ]
    }
   ],
   "source": [
    "import numpy as np\n",
    "def generate():\n",
    "    matrix = np.random.random((7,2))\n",
    "    row,column = matrix[:,0], matrix[:,1]\n",
    "    radial_coordinate = np.sqrt(row**2 + column**2)\n",
    "    angular_coordinate = np.arctan2(column, row)\n",
    "    print(radial_coordinate)\n",
    "    print(angular_coordinate) \n",
    "    return None\n",
    "generate()"
   ]
  },
  {
   "cell_type": "markdown",
   "metadata": {},
   "source": [
    "### 4. Create an numpy array sequence named num_seq when only the starting point, step size and length of sequence is given."
   ]
  },
  {
   "cell_type": "code",
   "execution_count": 4,
   "metadata": {},
   "outputs": [
    {
     "data": {
      "text/plain": [
       "array([ 5,  7,  9, 11, 13, 15, 17, 19, 21, 23, 25, 27, 29, 31, 33])"
      ]
     },
     "execution_count": 4,
     "metadata": {},
     "output_type": "execute_result"
    }
   ],
   "source": [
    "import numpy as np\n",
    "\n",
    "length = 15\n",
    "start = 5\n",
    "step = 2\n",
    "\n",
    "def generate(start, length, step):\n",
    "    end = start + (step*length)\n",
    "    num_seq = np.arange(start, end, step)\n",
    "    return num_seq\n",
    "\n",
    "generate(start, length, step)"
   ]
  },
  {
   "cell_type": "markdown",
   "metadata": {},
   "source": [
    "### 5. Make a 3*3 array using a 1d array of evenly spaced numbers ranging from 0 to 9, name it arr1.<br/> \n",
    "### Then transpose it to obtain arr2.  From arr2 subtract a 1*3 array with all elements 1 to get arr4. Return arr4.\n",
    "HINT: Use reshape and transpose function."
   ]
  },
  {
   "cell_type": "code",
   "execution_count": 5,
   "metadata": {},
   "outputs": [
    {
     "data": {
      "text/plain": [
       "array([[-1,  2,  5],\n",
       "       [ 0,  3,  6],\n",
       "       [ 1,  4,  7]])"
      ]
     },
     "execution_count": 5,
     "metadata": {},
     "output_type": "execute_result"
    }
   ],
   "source": [
    "import numpy as np\n",
    "def generate():\n",
    "    arr = np.arange(0,9)                                \n",
    "    arr1 = arr.reshape(3,3) \n",
    "    arr2=arr1.transpose()\n",
    "    arr3=np.ones(3,dtype=int)\n",
    "    arr4=arr2-arr3\n",
    "    return arr4\n",
    "generate()"
   ]
  },
  {
   "cell_type": "markdown",
   "metadata": {},
   "source": [
    "### 6. Create a DatetimeIndex that contains each business day of 2016 and use it to index a Series of random numbers. Let's call this Series bus_2k16. Hint: use pd.date_range."
   ]
  },
  {
   "cell_type": "code",
   "execution_count": 6,
   "metadata": {},
   "outputs": [
    {
     "name": "stdout",
     "output_type": "stream",
     "text": [
      "2016-01-01    0.952715\n",
      "2016-01-04    0.016727\n",
      "2016-01-05    0.185001\n",
      "2016-01-06    0.981954\n",
      "2016-01-07    0.273512\n",
      "                ...   \n",
      "2016-12-26    0.401190\n",
      "2016-12-27    0.720080\n",
      "2016-12-28    0.810756\n",
      "2016-12-29    0.694240\n",
      "2016-12-30    0.811401\n",
      "Freq: B, Length: 261, dtype: float64\n"
     ]
    }
   ],
   "source": [
    "import pandas as pd\n",
    "import numpy as np\n",
    "def generate():\n",
    "    dti = pd.date_range(start='2016-01-01', end='2016-12-31', freq='B') \n",
    "    bus_2k16 = pd.Series(np.random.rand(len(dti)), index=dti)\n",
    "    print(bus_2k16)\n",
    "generate()"
   ]
  },
  {
   "cell_type": "markdown",
   "metadata": {},
   "source": [
    "###  7. For each calendar month in dataframe bus_2k16, from previous problem. Print out the mean of values also find the sum of the values in bus_2k16 for every Monday."
   ]
  },
  {
   "cell_type": "code",
   "execution_count": 7,
   "metadata": {},
   "outputs": [
    {
     "name": "stdout",
     "output_type": "stream",
     "text": [
      "2016-01-01    0.134090\n",
      "2016-01-04    0.819109\n",
      "2016-01-05    0.197624\n",
      "2016-01-06    0.165091\n",
      "2016-01-07    0.858171\n",
      "                ...   \n",
      "2016-12-26    0.572579\n",
      "2016-12-27    0.619465\n",
      "2016-12-28    0.610373\n",
      "2016-12-29    0.194203\n",
      "2016-12-30    0.664691\n",
      "Freq: B, Length: 261, dtype: float64\n",
      "2016-01-31    0.498652\n",
      "2016-02-29    0.547004\n",
      "2016-03-31    0.440244\n",
      "2016-04-30    0.533383\n",
      "2016-05-31    0.522054\n",
      "2016-06-30    0.542855\n",
      "2016-07-31    0.472698\n",
      "2016-08-31    0.580922\n",
      "2016-09-30    0.527462\n",
      "2016-10-31    0.503242\n",
      "2016-11-30    0.511233\n",
      "2016-12-31    0.429924\n",
      "Freq: M, dtype: float64\n",
      "29.328696482501464\n"
     ]
    }
   ],
   "source": [
    "import pandas as pd\n",
    "import numpy as np\n",
    "def generate():\n",
    "    dti = pd.date_range(start='2016-01-01', end='2016-12-31', freq='B') \n",
    "    bus_2k16 = pd.Series(np.random.rand(len(dti)), index=dti)\n",
    "    print(bus_2k16)\n",
    "    print(bus_2k16.resample('M').mean())\n",
    "    print(bus_2k16[bus_2k16.index.weekday == 0].sum())\n",
    "    return None\n",
    "generate()"
   ]
  },
  {
   "cell_type": "markdown",
   "metadata": {},
   "source": [
    "### 8.Given the dataframe df, In the From_To column split each string on the underscore delimiter _ to give a new temporary DataFrame with the correct values. Also standardise the strings so that only the first letter is uppercase (e.g. \"londON\" should become \"London\".) Assign the correct column names to this temporary DataFrame named as temp. Return temp."
   ]
  },
  {
   "cell_type": "code",
   "execution_count": 11,
   "metadata": {},
   "outputs": [
    {
     "name": "stdout",
     "output_type": "stream",
     "text": [
      "          0          1\n",
      "0    LoNDon      paris\n",
      "1    MAdrid      miLAN\n",
      "2    londON  StockhOlm\n",
      "3  Budapest      PaRis\n",
      "4  Brussels     londOn\n",
      "<class 'pandas.core.frame.DataFrame'>\n"
     ]
    },
    {
     "data": {
      "text/html": [
       "<div>\n",
       "<style scoped>\n",
       "    .dataframe tbody tr th:only-of-type {\n",
       "        vertical-align: middle;\n",
       "    }\n",
       "\n",
       "    .dataframe tbody tr th {\n",
       "        vertical-align: top;\n",
       "    }\n",
       "\n",
       "    .dataframe thead th {\n",
       "        text-align: right;\n",
       "    }\n",
       "</style>\n",
       "<table border=\"1\" class=\"dataframe\">\n",
       "  <thead>\n",
       "    <tr style=\"text-align: right;\">\n",
       "      <th></th>\n",
       "      <th>From</th>\n",
       "      <th>To</th>\n",
       "    </tr>\n",
       "  </thead>\n",
       "  <tbody>\n",
       "    <tr>\n",
       "      <th>0</th>\n",
       "      <td>London</td>\n",
       "      <td>Paris</td>\n",
       "    </tr>\n",
       "    <tr>\n",
       "      <th>1</th>\n",
       "      <td>Madrid</td>\n",
       "      <td>Milan</td>\n",
       "    </tr>\n",
       "    <tr>\n",
       "      <th>2</th>\n",
       "      <td>London</td>\n",
       "      <td>Stockholm</td>\n",
       "    </tr>\n",
       "    <tr>\n",
       "      <th>3</th>\n",
       "      <td>Budapest</td>\n",
       "      <td>Paris</td>\n",
       "    </tr>\n",
       "    <tr>\n",
       "      <th>4</th>\n",
       "      <td>Brussels</td>\n",
       "      <td>London</td>\n",
       "    </tr>\n",
       "  </tbody>\n",
       "</table>\n",
       "</div>"
      ],
      "text/plain": [
       "       From         To\n",
       "0    London      Paris\n",
       "1    Madrid      Milan\n",
       "2    London  Stockholm\n",
       "3  Budapest      Paris\n",
       "4  Brussels     London"
      ]
     },
     "execution_count": 11,
     "metadata": {},
     "output_type": "execute_result"
    }
   ],
   "source": [
    "import numpy as np\n",
    "df = pd.DataFrame({'From_To': ['LoNDon_paris', 'MAdrid_miLAN', 'londON_StockhOlm', \n",
    "                               'Budapest_PaRis', 'Brussels_londOn'],\n",
    "              'FlightNumber': [10045, np.nan, 10065, np.nan, 10085],\n",
    "              'RecentDelays': [[23, 47], [], [24, 43, 87], [13], [67, 32]],\n",
    "                   'Airline': ['KLM(!)', '<Air France> (12)', '(British Airways. )', \n",
    "                               '12. Air France', '\"Swiss Air\"']})\n",
    "import pandas as pd\n",
    "def generate():\n",
    "    temp = df.From_To.str.split('_', expand=True)\n",
    "    print(temp)\n",
    "    print(type(temp))\n",
    "    temp.columns = ['From', 'To']\n",
    "    temp['From'] = temp['From'].str.capitalize()\n",
    "    temp['To'] = temp['To'].str.capitalize()\n",
    "    return temp\n",
    "generate()"
   ]
  },
  {
   "cell_type": "markdown",
   "metadata": {},
   "source": [
    "### 9. Given a dataFrame with 10 columns of real numbers. Find that column's label which has the smallest sum? Also count the number of unique rows the dataframe has.\n",
    "Hint: use idxmin method."
   ]
  },
  {
   "cell_type": "code",
   "execution_count": 16,
   "metadata": {},
   "outputs": [
    {
     "name": "stdout",
     "output_type": "stream",
     "text": [
      "          q         r         s         t         u         v         w  \\\n",
      "0  0.673335  0.318018  0.094200  0.242783  0.233655  0.269777  0.853209   \n",
      "1  0.887917  0.095213  0.046749  0.440201  0.506694  0.076874  0.809851   \n",
      "2  0.207738  0.822624  0.629993  0.825719  0.465248  0.885489  0.967295   \n",
      "3  0.451181  0.313585  0.323117  0.451570  0.393657  0.296373  0.259810   \n",
      "\n",
      "          x         y         z  \n",
      "0  0.914834  0.628307  0.189183  \n",
      "1  0.765814  0.965307  0.893304  \n",
      "2  0.850588  0.075862  0.117012  \n",
      "3  0.766569  0.926669  0.257706  \n",
      "s\n",
      "q    4\n",
      "r    4\n",
      "s    4\n",
      "t    4\n",
      "u    4\n",
      "v    4\n",
      "w    4\n",
      "x    4\n",
      "y    4\n",
      "z    4\n",
      "dtype: int64\n",
      "4\n",
      "4\n"
     ]
    }
   ],
   "source": [
    "import pandas as pd\n",
    "import numpy as np\n",
    "df = pd.DataFrame(np.random.random(size=(4, 10)), columns=list('qrstuvwxyz'))\n",
    "print(df)\n",
    "def generate():\n",
    "    print(df.sum().idxmin())\n",
    "    print(df.drop_duplicates().count())  #for each column in dataframe\n",
    "    print(df.duplicated().count())  # for whole dataframe\n",
    "    print(len(df) - df.duplicated(keep=False).sum())\n",
    "    return None\n",
    "generate()"
   ]
  },
  {
   "cell_type": "markdown",
   "metadata": {},
   "source": [
    "### 10. Given a dataFrame df with a column 'int' of integers. Print out the dataframe with filtered out rows which contain the same integer as the row immediately above. Also print out the dataframe after subtracting the mean of all integers from each element.\n",
    "Hint: use drop_duplicates and sub methods"
   ]
  },
  {
   "cell_type": "code",
   "execution_count": 15,
   "metadata": {},
   "outputs": [
    {
     "name": "stdout",
     "output_type": "stream",
     "text": [
      "   int\n",
      "0    1\n",
      "1    2\n",
      "3    3\n",
      "4    4\n",
      "5    5\n",
      "8    6\n",
      "9    7\n",
      "         int\n",
      "0  -3.272727\n",
      "1  -2.272727\n",
      "2  -2.272727\n",
      "3  -1.272727\n",
      "4  -0.272727\n",
      "5   0.727273\n",
      "6   0.727273\n",
      "7   0.727273\n",
      "8   1.727273\n",
      "9   2.727273\n",
      "10  2.727273\n"
     ]
    }
   ],
   "source": [
    "import pandas as pd\n",
    "df = pd.DataFrame({'int': [1, 2, 2, 3, 4, 5, 5, 5, 6, 7, 7]})\n",
    "def generate():\n",
    "    print(df.drop_duplicates(subset='int'))\n",
    "    print(df.sub(df.mean(axis=0), axis=1))\n",
    "    return None\n",
    "generate()"
   ]
  }
 ],
 "metadata": {
  "kernelspec": {
   "display_name": "Python 3",
   "language": "python",
   "name": "python3"
  },
  "language_info": {
   "codemirror_mode": {
    "name": "ipython",
    "version": 3
   },
   "file_extension": ".py",
   "mimetype": "text/x-python",
   "name": "python",
   "nbconvert_exporter": "python",
   "pygments_lexer": "ipython3",
   "version": "3.7.4"
  }
 },
 "nbformat": 4,
 "nbformat_minor": 2
}
